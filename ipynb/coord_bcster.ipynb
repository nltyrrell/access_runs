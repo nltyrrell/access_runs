{
 "metadata": {
  "name": ""
 },
 "nbformat": 3,
 "nbformat_minor": 0,
 "worksheets": [
  {
   "cells": [
    {
     "cell_type": "code",
     "collapsed": false,
     "input": [
      "import iris\n",
      "import numpy as np\n",
      "import iris.coord_categorisation\n",
      "import iris.plot as iplt\n",
      "import iris.quickplot as qplt\n",
      "import cartopy.crs as ccrs\n",
      "import matplotlib.pyplot as plt\n",
      "\n",
      "\n",
      "d = iris.load_cube('../ncfiles/temp.sfc.4ysl.nc')\n",
      "iris.coord_categorisation.add_month_number(d, 't', 'month_number')\n",
      "cl = d.aggregated_by('month_number', iris.analysis.MEAN)"
     ],
     "language": "python",
     "metadata": {},
     "outputs": [],
     "prompt_number": 15
    },
    {
     "cell_type": "code",
     "collapsed": false,
     "input": [
      "print d\n",
      "print d.coord('month_number')\n",
      "print cl\n",
      "print cl.coord('month_number')"
     ],
     "language": "python",
     "metadata": {},
     "outputs": [
      {
       "output_type": "stream",
       "stream": "stdout",
       "text": [
        "Temperature T / (K)                 (t: 1188; surface: 1; latitude: 73; longitude: 96)\n",
        "     Dimension coordinates:\n",
        "          t                           x              -            -              -\n",
        "          surface                     -              x            -              -\n",
        "          latitude                    -              -            x              -\n",
        "          longitude                   -              -            -              x\n",
        "     Auxiliary coordinates:\n",
        "          month_number                x              -            -              -\n",
        "     Attributes:\n",
        "          date: 01/10/00\n",
        "          history: Thu Jan  3 14:10:30 EST 2013 - CONVSH V1.91 Development\n",
        "          name: temp\n",
        "          source: Unified Model Output (Vn 7.3):\n",
        "          time: 00:00\n",
        "          title: Temperature T\n",
        "AuxCoord(array([ 1,  2,  3, ..., 10, 11, 12]), standard_name=None, units=Unit('1'), long_name=u'month_number', attributes={'time_origin': '01-OCT-0000:00:00:00'})\n",
        "Temperature T / (K)                 (t: 12; surface: 1; latitude: 73; longitude: 96)\n",
        "     Dimension coordinates:\n",
        "          t                           x            -            -              -\n",
        "          surface                     -            x            -              -\n",
        "          latitude                    -            -            x              -\n",
        "          longitude                   -            -            -              x\n",
        "     Auxiliary coordinates:\n",
        "          month_number                x            -            -              -\n",
        "     Attributes:\n",
        "          date: 01/10/00\n",
        "          history: Thu Jan  3 14:10:30 EST 2013 - CONVSH V1.91 Development\n",
        "          name: temp\n",
        "          source: Unified Model Output (Vn 7.3):\n",
        "          time: 00:00\n",
        "          title: Temperature T\n",
        "     Cell methods:\n",
        "          mean: month_number\n",
        "AuxCoord(array([ 1,  2,  3,  4,  5,  6,  7,  8,  9, 10, 11, 12]), standard_name=None, units=Unit('1'), long_name=u'month_number', attributes={'time_origin': '01-OCT-0000:00:00:00'})\n"
       ]
      }
     ],
     "prompt_number": 16
    },
    {
     "cell_type": "code",
     "collapsed": false,
     "input": [
      "import iris\n",
      "import numpy as np\n",
      "import iris.coord_categorisation\n",
      "\n",
      "def bc(aux_cube, dim_cube, comparable_coord):\n",
      "    if type(aux_cube.coord(comparable_coord)) is not iris.coords.AuxCoord:\n",
      "        raise TypeError\n",
      "    if type(dim_cube.coord(comparable_coord)) is not iris.coords.AuxCoord:\n",
      "        raise TypeError\n",
      "    \n",
      "    aux_cube_coord = aux_cube.coord(comparable_coord)\n",
      "    dim_cube_coord = dim_cube.coord(comparable_coord)\n",
      "    aux_cube_dim, = aux_cube.coord_dims(aux_cube_coord)\n",
      "    dim_cube_dim, = aux_cube.coord_dims(dim_cube_coord)\n",
      "    \n",
      "    s_aux_cube = [slice(None)]*len(aux_cube.shape)\n",
      "    s_aux_cube[aux_cube_dim] = 0\n",
      "    s_dim_cube = [slice(None)]*len(dim_cube.shape)\n",
      "    s_dim_cube[dim_cube_dim] = 0\n",
      "    a = aux_cube[tuple(s_aux_cube)]\n",
      "    a.attributes = None\n",
      "    a.cell_methods = None\n",
      "    b = dim_cube[tuple(s_dim_cube)]\n",
      "    b.attributes = None\n",
      "    b.cell_methods = None\n",
      "    if not a.is_compatible(b):\n",
      "        iris.util.describe_diff(a, b)\n",
      "        raise RuntimeError(\"Cubes are not compatible\")\n",
      "    \n",
      "    ind = []\n",
      "    for p in aux_cube.coord(comparable_coord).points:\n",
      "        i = np.where(dim_cube.coord(comparable_coord).points == p)\n",
      "        ind.append(i[0][0])\n",
      "\n",
      "    s = [slice(None)]*len(dim_cube.shape)\n",
      "    s[dim_cube_dim] = ind\n",
      "    new_data = dim_cube.data[tuple(s)]\n",
      "    new_cube = aux_cube.copy()\n",
      "    new_cube.data = new_data\n",
      "    new_cube.history = \"%s comparable to %s in terms of %s\" % (dim_cube.name(),\n",
      "                                                               aux_cube.name(),\n",
      "                                                               comparable_coord)\n",
      "    \n",
      "    return new_cube"
     ],
     "language": "python",
     "metadata": {},
     "outputs": [],
     "prompt_number": 17
    },
    {
     "cell_type": "code",
     "collapsed": false,
     "input": [
      "new_cube = bc(d, cl, 'month_number')"
     ],
     "language": "python",
     "metadata": {},
     "outputs": [],
     "prompt_number": 18
    },
    {
     "cell_type": "code",
     "collapsed": false,
     "input": [
      "print new_cube"
     ],
     "language": "python",
     "metadata": {},
     "outputs": [
      {
       "output_type": "stream",
       "stream": "stdout",
       "text": [
        "Temperature T / (K)                 (t: 1188; surface: 1; latitude: 73; longitude: 96)\n",
        "     Dimension coordinates:\n",
        "          t                           x              -            -              -\n",
        "          surface                     -              x            -              -\n",
        "          latitude                    -              -            x              -\n",
        "          longitude                   -              -            -              x\n",
        "     Auxiliary coordinates:\n",
        "          month_number                x              -            -              -\n",
        "     Attributes:\n",
        "          date: 01/10/00\n",
        "          history: Thu Jan  3 14:10:30 EST 2013 - CONVSH V1.91 Development\n",
        "          name: temp\n",
        "          source: Unified Model Output (Vn 7.3):\n",
        "          time: 00:00\n",
        "          title: Temperature T\n"
       ]
      }
     ],
     "prompt_number": 19
    },
    {
     "cell_type": "code",
     "collapsed": false,
     "input": [
      "print new_cube[:, 0, 50, 50].data\n",
      "print cl[:, 0,50, 50].data"
     ],
     "language": "python",
     "metadata": {},
     "outputs": [
      {
       "output_type": "stream",
       "stream": "stdout",
       "text": [
        "[ 288.61566162  287.55606079  287.47613525 ...,  294.87341309  292.25823975\n",
        "  290.22119141]\n",
        "[ 288.61566162  287.55606079  287.47613525  288.26196289  289.77514648\n",
        "  292.20614624  295.87078857  297.8192749   297.19937134  294.87341309\n",
        "  292.25823975  290.22119141]\n"
       ]
      }
     ],
     "prompt_number": 20
    },
    {
     "cell_type": "code",
     "collapsed": false,
     "input": [
      "anom_cube = d = new_cube"
     ],
     "language": "python",
     "metadata": {},
     "outputs": [],
     "prompt_number": 21
    },
    {
     "cell_type": "code",
     "collapsed": false,
     "input": [
      "print anom_cube"
     ],
     "language": "python",
     "metadata": {},
     "outputs": [
      {
       "output_type": "stream",
       "stream": "stdout",
       "text": [
        "Temperature T / (K)                 (t: 1188; surface: 1; latitude: 73; longitude: 96)\n",
        "     Dimension coordinates:\n",
        "          t                           x              -            -              -\n",
        "          surface                     -              x            -              -\n",
        "          latitude                    -              -            x              -\n",
        "          longitude                   -              -            -              x\n",
        "     Auxiliary coordinates:\n",
        "          month_number                x              -            -              -\n",
        "     Attributes:\n",
        "          date: 01/10/00\n",
        "          history: Thu Jan  3 14:10:30 EST 2013 - CONVSH V1.91 Development\n",
        "          name: temp\n",
        "          source: Unified Model Output (Vn 7.3):\n",
        "          time: 00:00\n",
        "          title: Temperature T\n"
       ]
      }
     ],
     "prompt_number": 22
    },
    {
     "cell_type": "code",
     "collapsed": false,
     "input": [
      "whos"
     ],
     "language": "python",
     "metadata": {},
     "outputs": [
      {
       "output_type": "stream",
       "stream": "stdout",
       "text": [
        "Variable    Type        Data/Info\n",
        "---------------------------------\n",
        "anom_cube   Cube        Temperature T / (K)      <...>     title: Temperature T\n",
        "bc          function    <function bc at 0x7f0efc8a3320>\n",
        "ccrs        module      <module 'cartopy.crs' fro<...>ackages/cartopy/crs.pyc'>\n",
        "cl          Cube        Temperature T / (K)      <...>       mean: month_number\n",
        "d           Cube        Temperature T / (K)      <...>     title: Temperature T\n",
        "iplt        module      <module 'iris.plot' from <...>py2.7.egg/iris/plot.pyc'>\n",
        "iris        module      <module 'iris' from '/usr<...>7.egg/iris/__init__.pyc'>\n",
        "new_cube    Cube        Temperature T / (K)      <...>     title: Temperature T\n",
        "np          module      <module 'numpy' from '/us<...>ages/numpy/__init__.pyc'>\n",
        "plt         module      <module 'matplotlib.pyplo<...>s/matplotlib/pyplot.pyc'>\n",
        "qplt        module      <module 'iris.quickplot' <...>7.egg/iris/quickplot.py'>\n"
       ]
      }
     ],
     "prompt_number": 23
    },
    {
     "cell_type": "code",
     "collapsed": false,
     "input": [],
     "language": "python",
     "metadata": {},
     "outputs": []
    }
   ],
   "metadata": {}
  }
 ]
}